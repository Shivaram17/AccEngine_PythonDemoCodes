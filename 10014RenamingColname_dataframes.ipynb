{
  "nbformat": 4,
  "nbformat_minor": 0,
  "metadata": {
    "colab": {
      "name": "10038AdvancedPython_mappingSequence_namedtuple_stocks.ipynb",
      "provenance": [],
      "collapsed_sections": [],
      "authorship_tag": "ABX9TyNOPM1FS4m3aGtfhsWCk8CQ",
      "include_colab_link": true
    },
    "kernelspec": {
      "name": "python3",
      "display_name": "Python 3"
    },
    "language_info": {
      "name": "python"
    }
  },
  "cells": [
    {
      "cell_type": "markdown",
      "metadata": {
        "id": "view-in-github",
        "colab_type": "text"
      },
      "source": [
        "<a href=\"https://colab.research.google.com/github/Shivaram17/AccEngine_PythonDemoCodes/blob/main/10014RenamingColname_dataframes.ipynb\" target=\"_parent\"><img src=\"https://colab.research.google.com/assets/colab-badge.svg\" alt=\"Open In Colab\"/></a>"
      ]
    },
    {
      "cell_type": "code",
      "source": [
        "# Import pandas package\n",
        "import pandas as pd\n",
        "\n",
        "# Define a dictionary containing ICC rankings\n",
        "rankings = {'test': ['India', 'South Africa', 'England',\n",
        "\t\t\t\t\t\t\t'New Zealand', 'Australia'],\n",
        "\t\t\t'odi': ['England', 'India', 'New Zealand',\n",
        "\t\t\t\t\t\t\t'South Africa', 'Pakistan'],\n",
        "\t\t\t't20': ['Pakistan', 'India', 'Australia',\n",
        "\t\t\t\t\t\t\t'England', 'New Zealand'],\n",
        "      'psl': ['Karachi', 'Lahore', 'Islamabad', 'Rawalpindi','Punjab'] }\n",
        "\n",
        "# Convert the dictionary into DataFrame\n",
        "rankings_pd = pd.DataFrame(rankings)\n",
        "\n",
        "# Before renaming the columns\n",
        "print(rankings_pd.columns)\n",
        "\n",
        "rankings_pd.rename(columns = {rankings_pd.columns[0]: ' TEST_Cricket', 'odi':'ODI',\n",
        "\t\t\t\t\t\t\t't20':'T20', 'ipl':'IPL'}, inplace = True)\n",
        "\n",
        "# After renaming the columns\n",
        "print(rankings_pd.columns)\n",
        "\n"
      ],
      "metadata": {
        "id": "VuPyrpjSuVx6",
        "colab": {
          "base_uri": "https://localhost:8080/"
        },
        "outputId": "fc3ddc52-5c7d-45c9-f4dd-e838ebfd285a"
      },
      "execution_count": 5,
      "outputs": [
        {
          "output_type": "stream",
          "name": "stdout",
          "text": [
            "Index(['test', 'odi', 't20', 'psl'], dtype='object')\n",
            "Index([' TEST_Cricket', 'ODI', 'T20', 'psl'], dtype='object')\n"
          ]
        }
      ]
    },
    {
      "cell_type": "code",
      "source": [
        ""
      ],
      "metadata": {
        "id": "e4gb2dP2hRqE"
      },
      "execution_count": null,
      "outputs": []
    }
  ]
}