{
  "nbformat": 4,
  "nbformat_minor": 0,
  "metadata": {
    "colab": {
      "name": "10027AdvancedPython_ZipFunc_PortfolioFunctions.ipynb",
      "provenance": [],
      "collapsed_sections": [],
      "authorship_tag": "ABX9TyM/0nqWiXrnKzmmS65fI12D",
      "include_colab_link": true
    },
    "kernelspec": {
      "name": "python3",
      "display_name": "Python 3"
    },
    "language_info": {
      "name": "python"
    }
  },
  "cells": [
    {
      "cell_type": "markdown",
      "metadata": {
        "id": "view-in-github",
        "colab_type": "text"
      },
      "source": [
        "<a href=\"https://colab.research.google.com/github/Shivaram17/AccEngine_PythonDemoCodes/blob/main/10012NumpySelect.ipynb\" target=\"_parent\"><img src=\"https://colab.research.google.com/assets/colab-badge.svg\" alt=\"Open In Colab\"/></a>"
      ]
    },
    {
      "cell_type": "code",
      "source": [
        "# Python program explaining\n",
        "# numpy.select() function\n",
        "\n",
        "# importing numpy as geek\n",
        "import numpy as geek\n",
        "\n",
        "arr = geek.arange(8)\n",
        "\n",
        "condlist = [arr<4, arr > 5]\n",
        "choicelist = ['N', 'Y']\n",
        "\n",
        "gfg = geek.select(condlist, choicelist)\n",
        "\n",
        "print (gfg)\n"
      ],
      "metadata": {
        "colab": {
          "base_uri": "https://localhost:8080/"
        },
        "id": "zUyCDCT2EFYZ",
        "outputId": "2234fb48-9197-403d-a8aa-a3e1d5181be1"
      },
      "execution_count": 22,
      "outputs": [
        {
          "output_type": "stream",
          "name": "stdout",
          "text": [
            "['N' 'N' 'N' 'N' '0' '0' 'Y' 'Y']\n"
          ]
        }
      ]
    },
    {
      "cell_type": "code",
      "source": [
        ""
      ],
      "metadata": {
        "id": "CFRdc6NNJzzM"
      },
      "execution_count": null,
      "outputs": []
    }
  ]
}