{
  "nbformat": 4,
  "nbformat_minor": 0,
  "metadata": {
    "colab": {
      "name": "1009AutomateToMoveTo&ClickMouse.ipynb",
      "provenance": [],
      "collapsed_sections": [],
      "authorship_tag": "ABX9TyOP+XfxGP6rCK7w2EKLxZwB",
      "include_colab_link": true
    },
    "kernelspec": {
      "name": "python3",
      "display_name": "Python 3"
    },
    "language_info": {
      "name": "python"
    }
  },
  "cells": [
    {
      "cell_type": "markdown",
      "metadata": {
        "id": "view-in-github",
        "colab_type": "text"
      },
      "source": [
        "<a href=\"https://colab.research.google.com/github/Shivaram17/AccEngine_PythonDemoCodes/blob/main/1009AutomateToMoveTo%26ClickMouse.ipynb\" target=\"_parent\"><img src=\"https://colab.research.google.com/assets/colab-badge.svg\" alt=\"Open In Colab\"/></a>"
      ]
    },
    {
      "cell_type": "code",
      "source": [
        "#numpy array for random module for data distribution\n",
        "# import numpy as np\n",
        "# from numpy import random\n",
        "# # random choice for arrays\n",
        "# z = random.choice([1,3,5,7,9], p = [0.1,0.1,0.3,0.1,0.4], size = (3,5))\n",
        "# arr = np.array([1,3,5,6,8,9])\n",
        "# #random shuffle\n",
        "# random.shuffle(arr)\n",
        "# #random permutation\n",
        "# print(random.permutation(arr))\n",
        "# print(z)\n",
        "# print(arr)\n"
      ],
      "metadata": {
        "id": "7clEkNWGYGeo"
      },
      "execution_count": 1,
      "outputs": []
    },
    {
      "cell_type": "code",
      "source": [
        "#Automate to move the mouse cursor\n",
        "# !pip install pyautogui\n",
        "import pyautogui\n",
        "import time\n",
        "#Automating the mouse cursor movement\n",
        "for i in range(5):\n",
        "    time.sleep(5)\n",
        "    pyautogui.moveTo(1000,800, duration=1)\n",
        "    time.sleep(5)\n",
        "    pyautogui.moveTo(1000,900, duration = 1)\n",
        "#     pyautogui.moveTo(100,200, duration = 1)    \n",
        "#     pyautogui.moveTo(200,200, duration = 1)\n",
        "# Automating the Mouse Click \n",
        "for i in range(5):\n",
        "    time.sleep(3)\n",
        "    pyautogui.click(1000,800)\n",
        "    time.sleep(3)\n",
        "    pyautogui.click(1000,900)    "
      ],
      "metadata": {
        "id": "c3XmGF9YF8oC"
      },
      "execution_count": null,
      "outputs": []
    }
  ]
}