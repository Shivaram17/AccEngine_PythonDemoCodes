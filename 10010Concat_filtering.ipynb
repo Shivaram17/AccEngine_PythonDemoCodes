{
  "nbformat": 4,
  "nbformat_minor": 0,
  "metadata": {
    "colab": {
      "name": "10015AdvancedPython_SharingDatamultiprocessingLock.ipynb",
      "provenance": [],
      "collapsed_sections": [],
      "authorship_tag": "ABX9TyNDu+5oFRZTAICOFjVMysYK",
      "include_colab_link": true
    },
    "kernelspec": {
      "name": "python3",
      "display_name": "Python 3"
    },
    "language_info": {
      "name": "python"
    }
  },
  "cells": [
    {
      "cell_type": "markdown",
      "metadata": {
        "id": "view-in-github",
        "colab_type": "text"
      },
      "source": [
        "<a href=\"https://colab.research.google.com/github/Shivaram17/AccEngine_PythonDemoCodes/blob/main/1009Concat_filtering.ipynb\" target=\"_parent\"><img src=\"https://colab.research.google.com/assets/colab-badge.svg\" alt=\"Open In Colab\"/></a>"
      ]
    },
    {
      "cell_type": "code",
      "source": [
        "# union of datasets\n",
        "import pandas as pd\n",
        "\n",
        "clients1 = {'clientFirstName': ['Jon','Maria','Bruce','Lili'],\n",
        "            'clientLastName': ['Smith','Lam','Jones','Chang'],\n",
        "            'country': ['US','Canada','Italy','China'],\n",
        "            'c': ['UK','Germany','Brazil','Japan']\n",
        "           }\n",
        "\n",
        "df1 = pd.DataFrame(clients1, columns= ['clientFirstName', 'clientLastName','country'])\n",
        "\n",
        "\n",
        "clients2 = {'clientFirstName': ['Bill','Jack','Elizabeth','Jenny'],\n",
        "            'clientLastName': ['Jackson','Green','Gross','Sing'],\n",
        "            'c': ['UK','Germany','Brazil','Japan']\n",
        "           }\n",
        "\n",
        "df2 = pd.DataFrame(clients2, columns= ['clientFirstName', 'clientLastName','country'])\n",
        "\n",
        "union = pd.concat([df1, df2], ignore_index=True)\n",
        "print (union)"
      ],
      "metadata": {
        "id": "D7u3scU9Vq6d",
        "colab": {
          "base_uri": "https://localhost:8080/"
        },
        "outputId": "e099bd4f-e644-48cc-fa61-33fecd540250"
      },
      "execution_count": null,
      "outputs": [
        {
          "output_type": "stream",
          "name": "stdout",
          "text": [
            "  clientFirstName clientLastName country\n",
            "0             Jon          Smith      US\n",
            "1           Maria            Lam  Canada\n",
            "2           Bruce          Jones   Italy\n",
            "3            Lili          Chang   China\n",
            "4            Bill        Jackson     NaN\n",
            "5            Jack          Green     NaN\n",
            "6       Elizabeth          Gross     NaN\n",
            "7           Jenny           Sing     NaN\n"
          ]
        }
      ]
    },
    {
      "cell_type": "code",
      "source": [
        "\n",
        "# Create pandas DataFrame\n",
        "import pandas as pd\n",
        "import numpy as np\n",
        "technologies = {\n",
        "    'Lg': [1,2,4,4],\n",
        "    'Courses':[\"Spark\",\"PySpark\",\"Hadoop\",\"Python\"],\n",
        "    'Fee' :[22000,25000,np.nan,24000],\n",
        "    'Duration':['30day',None,'55days',np.nan],\n",
        "    'Discount':[1000,2300,1000,np.nan]\n",
        "          }\n",
        "technologies2 = {\n",
        "    'Lg': [1,3,4,4],\n",
        "    'Courses':[\"Spark\",\"PySpark\",\"Hadoop\",\"Python\"],\n",
        "    'Fee' :[22000,25000,np.nan,24000],\n",
        "    'Duration':['30day',None,'55days',np.nan],\n",
        "    'Discount':[1000,2300,1000,np.nan]\n",
        "          }\n",
        "df = pd.DataFrame(technologies)\n",
        "df1 = df.Lg.unique()\n",
        "we = pd.DataFrame(technologies2)\n",
        "l  = we[\"Lg\"].tolist()\n",
        "for i in l:\n",
        "  # print(i)\n",
        "  if i in df1:\n",
        "    we.drop(we[we['Lg'] == i].index, inplace = True)\n",
        "print(we.Lg)\n",
        "\n",
        "print(we)\n"
      ],
      "metadata": {
        "id": "93AJQUAcr9-4",
        "colab": {
          "base_uri": "https://localhost:8080/"
        },
        "outputId": "8cdf31fd-4b38-4523-f040-6d5cb95aaf84"
      },
      "execution_count": 4,
      "outputs": [
        {
          "output_type": "stream",
          "name": "stdout",
          "text": [
            "1    3\n",
            "Name: Lg, dtype: int64\n",
            "   Lg  Courses      Fee Duration  Discount\n",
            "1   3  PySpark  25000.0     None    2300.0\n"
          ]
        }
      ]
    },
    {
      "cell_type": "code",
      "source": [
        " "
      ],
      "metadata": {
        "id": "r6GQ2uLEgqsm"
      },
      "execution_count": null,
      "outputs": []
    }
  ]
}
