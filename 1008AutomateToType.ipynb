{
  "nbformat": 4,
  "nbformat_minor": 0,
  "metadata": {
    "colab": {
      "name": "1008AutomateToType.ipynb",
      "provenance": [],
      "collapsed_sections": [],
      "authorship_tag": "ABX9TyMPtp4TSdB7IRf7ytsgj4eQ",
      "include_colab_link": true
    },
    "kernelspec": {
      "name": "python3",
      "display_name": "Python 3"
    },
    "language_info": {
      "name": "python"
    }
  },
  "cells": [
    {
      "cell_type": "markdown",
      "metadata": {
        "id": "view-in-github",
        "colab_type": "text"
      },
      "source": [
        "<a href=\"https://colab.research.google.com/github/Shivaram17/AccEngine_PythonDemoCodes/blob/main/1008AutomateToType.ipynb\" target=\"_parent\"><img src=\"https://colab.research.google.com/assets/colab-badge.svg\" alt=\"Open In Colab\"/></a>"
      ]
    },
    {
      "cell_type": "code",
      "source": [
        "#numpy array for random module for data distribution\n",
        "# import numpy as np\n",
        "# from numpy import random\n",
        "# # random choice for arrays\n",
        "# z = random.choice([1,3,5,7,9], p = [0.1,0.1,0.3,0.1,0.4], size = (3,5))\n",
        "# arr = np.array([1,3,5,6,8,9])\n",
        "# #random shuffle\n",
        "# random.shuffle(arr)\n",
        "# #random permutation\n",
        "# print(random.permutation(arr))\n",
        "# print(z)\n",
        "# print(arr)\n"
      ],
      "metadata": {
        "id": "7clEkNWGYGeo",
        "colab": {
          "base_uri": "https://localhost:8080/"
        },
        "outputId": "412abdae-0f5b-4f44-ddf5-f91523ef3a5d"
      },
      "execution_count": 9,
      "outputs": [
        {
          "output_type": "stream",
          "name": "stdout",
          "text": [
            "[3 9 1 5 8 6]\n",
            "[[5 9 5 5 5]\n",
            " [5 3 5 9 3]\n",
            " [9 9 5 9 1]]\n",
            "[5 8 1 9 3 6]\n"
          ]
        }
      ]
    },
    {
      "cell_type": "code",
      "source": [
        "# Automating to type a text file content into laptop using pyautogui\n",
        "# !pip install pyautogui\n",
        "import pyautogui\n",
        "import time\n",
        "#wait for three seconds\n",
        "time.sleep(3)\n",
        "\n",
        "with open('text.txt') as f:\n",
        "    lines = f.readlines()\n",
        "for line in lines:\n",
        "    for c in line:\n",
        "        time.sleep(1)\n",
        "        pyautogui.typewrite(c)"
      ],
      "metadata": {
        "id": "c3XmGF9YF8oC"
      },
      "execution_count": null,
      "outputs": []
    }
  ]
}