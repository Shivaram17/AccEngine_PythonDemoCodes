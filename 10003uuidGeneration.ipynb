{
  "nbformat": 4,
  "nbformat_minor": 0,
  "metadata": {
    "colab": {
      "name": "10003uuidGeneration.ipynb",
      "provenance": [],
      "authorship_tag": "ABX9TyO2HoYUM/soC7ggDivOHYz3",
      "include_colab_link": true
    },
    "kernelspec": {
      "name": "python3",
      "display_name": "Python 3"
    },
    "language_info": {
      "name": "python"
    }
  },
  "cells": [
    {
      "cell_type": "markdown",
      "metadata": {
        "id": "view-in-github",
        "colab_type": "text"
      },
      "source": [
        "<a href=\"https://colab.research.google.com/github/Shivaram17/AccEngine_PythonDemoCodes/blob/main/10003uuidGeneration.ipynb\" target=\"_parent\"><img src=\"https://colab.research.google.com/assets/colab-badge.svg\" alt=\"Open In Colab\"/></a>"
      ]
    },
    {
      "cell_type": "code",
      "metadata": {
        "colab": {
          "base_uri": "https://localhost:8080/"
        },
        "id": "29IeHzxbi9HD",
        "outputId": "f1c3fab9-07cd-4122-d306-0946f4618b5c"
      },
      "source": [
        "import uuid\n",
        "# Printing random id using uuid1()\n",
        "print (\"The random id using uuid1() is : \",end=\"\")\n",
        "print (uuid.uuid1().__str__())"
      ],
      "execution_count": 6,
      "outputs": [
        {
          "output_type": "stream",
          "name": "stdout",
          "text": [
            "The random id using uuid1() is : e330d678-406e-11ec-97dc-0242ac1c0002\n"
          ]
        }
      ]
    },
    {
      "cell_type": "code",
      "metadata": {
        "id": "YITJNg0Ai--S"
      },
      "source": [
        ""
      ],
      "execution_count": null,
      "outputs": []
    }
  ]
}