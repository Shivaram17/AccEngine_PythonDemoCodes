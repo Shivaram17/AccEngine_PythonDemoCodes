{
  "nbformat": 4,
  "nbformat_minor": 0,
  "metadata": {
    "colab": {
      "name": "1005ReCompileFindall.ipynb",
      "provenance": [],
      "authorship_tag": "ABX9TyOgWpye1SHqv29eUFwUsQc/",
      "include_colab_link": true
    },
    "kernelspec": {
      "name": "python3",
      "display_name": "Python 3"
    },
    "language_info": {
      "name": "python"
    }
  },
  "cells": [
    {
      "cell_type": "markdown",
      "metadata": {
        "id": "view-in-github",
        "colab_type": "text"
      },
      "source": [
        "<a href=\"https://colab.research.google.com/github/Shivaram17/AccEngine_PythonDemoCodes/blob/main/1005ReCompileFindall.ipynb\" target=\"_parent\"><img src=\"https://colab.research.google.com/assets/colab-badge.svg\" alt=\"Open In Colab\"/></a>"
      ]
    },
    {
      "cell_type": "code",
      "metadata": {
        "colab": {
          "base_uri": "https://localhost:8080/"
        },
        "id": "ZHLwi1EdDQSq",
        "outputId": "1092fca0-1d06-4efb-e160-42babdc68f39"
      },
      "source": [
        "import re \n",
        "\n",
        "#check if the string starts with \"The and ends with spain\"\n",
        "txt = \"It is CSI_4097.Amount for citi CSI_1234.Leg_indicator\"\n",
        "p = re.compile('(\\w+_\\d+\\.\\w+)')\n",
        "x = p.findall(txt)\n",
        "print(x)\n"
      ],
      "execution_count": 12,
      "outputs": [
        {
          "output_type": "stream",
          "name": "stdout",
          "text": [
            "['CSI_4097.Amount', 'CSI_1234.Leg_indicator']\n"
          ]
        }
      ]
    },
    {
      "cell_type": "code",
      "metadata": {
        "id": "U5JrFAbHDZu2"
      },
      "source": [
        ""
      ],
      "execution_count": null,
      "outputs": []
    }
  ]
}