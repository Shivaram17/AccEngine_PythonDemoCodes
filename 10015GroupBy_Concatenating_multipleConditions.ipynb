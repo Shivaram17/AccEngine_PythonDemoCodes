{
  "nbformat": 4,
  "nbformat_minor": 0,
  "metadata": {
    "colab": {
      "name": "10060AdvancedPython_Numpy_Condition_StatisticalMethod.ipynb",
      "provenance": [],
      "collapsed_sections": [],
      "authorship_tag": "ABX9TyM6i/2Z/+Z6GnQZxkrRvQgh",
      "include_colab_link": true
    },
    "kernelspec": {
      "name": "python3",
      "display_name": "Python 3"
    },
    "language_info": {
      "name": "python"
    }
  },
  "cells": [
    {
      "cell_type": "markdown",
      "metadata": {
        "id": "view-in-github",
        "colab_type": "text"
      },
      "source": [
        "<a href=\"https://colab.research.google.com/github/Shivaram17/AccEngine_PythonDemoCodes/blob/main/10015GroupBy_Concatenating_multipleConditions.ipynb\" target=\"_parent\"><img src=\"https://colab.research.google.com/assets/colab-badge.svg\" alt=\"Open In Colab\"/></a>"
      ]
    },
    {
      "cell_type": "code",
      "source": [
        "# import pandas library group by for adding additional column by concatenating the current column values based on two sources ssa and mena\n",
        "import pandas as pd\n",
        "\n",
        "# read csv file\n",
        "df = pd.read_csv(\"Book.csv\")\n",
        "df1 = df.loc[df['Name'] == 'Romy']\n",
        "# concatenate the string\n",
        "df1['Left+Right'] = df1.groupby(['Name'])['branch'].transform(lambda x : ' '.join(x))\n",
        "\n",
        "# drop duplicate data\n",
        "df1 = df1.drop_duplicates('Name')\n",
        "\n",
        "# show the dataframe\n",
        "print(df1)\n"
      ],
      "metadata": {
        "id": "4QUMXOtFXOxd",
        "colab": {
          "base_uri": "https://localhost:8080/"
        },
        "outputId": "3ed2c18a-cecf-4e61-b516-494c80dfa0b6"
      },
      "execution_count": 17,
      "outputs": [
        {
          "output_type": "stream",
          "name": "stdout",
          "text": [
            "   Name branch  year       Left+Right\n",
            "0  Romy     My  2020  My name is Romy\n"
          ]
        },
        {
          "output_type": "stream",
          "name": "stderr",
          "text": [
            "/usr/local/lib/python3.7/dist-packages/ipykernel_launcher.py:8: SettingWithCopyWarning: \n",
            "A value is trying to be set on a copy of a slice from a DataFrame.\n",
            "Try using .loc[row_indexer,col_indexer] = value instead\n",
            "\n",
            "See the caveats in the documentation: https://pandas.pydata.org/pandas-docs/stable/user_guide/indexing.html#returning-a-view-versus-a-copy\n",
            "  \n"
          ]
        }
      ]
    },
    {
      "cell_type": "code",
      "source": [
        ""
      ],
      "metadata": {
        "id": "6ritId_mzX99"
      },
      "execution_count": null,
      "outputs": []
    }
  ]
}